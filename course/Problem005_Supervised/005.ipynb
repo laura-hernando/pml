{
  "nbformat": 4,
  "nbformat_minor": 0,
  "metadata": {
    "kernelspec": {
      "display_name": "Python 3",
      "language": "python",
      "name": "python3"
    },
    "language_info": {
      "codemirror_mode": {
        "name": "ipython",
        "version": 3
      },
      "file_extension": ".py",
      "mimetype": "text/x-python",
      "name": "python",
      "nbconvert_exporter": "python",
      "pygments_lexer": "ipython3",
      "version": "3.6.5"
    },
    "colab": {
      "name": "005.ipynb",
      "provenance": [],
      "include_colab_link": true
    }
  },
  "cells": [
    {
      "cell_type": "markdown",
      "metadata": {
        "id": "view-in-github",
        "colab_type": "text"
      },
      "source": [
        "<a href=\"https://colab.research.google.com/github/laura-hernando/pml/blob/master/course/Problem005_Supervised/005.ipynb\" target=\"_parent\"><img src=\"https://colab.research.google.com/assets/colab-badge.svg\" alt=\"Open In Colab\"/></a>"
      ]
    },
    {
      "cell_type": "markdown",
      "metadata": {
        "id": "vSS4vBilSdX-"
      },
      "source": [
        "## Supervised Learning - Regression\n",
        "\n",
        "*y* is a real number"
      ]
    },
    {
      "cell_type": "markdown",
      "metadata": {
        "id": "4zm2GqX6mxHe"
      },
      "source": [
        "Useful page: https://scikit-learn.org/stable/modules/generated/sklearn.linear_model.LinearRegression.html"
      ]
    },
    {
      "cell_type": "code",
      "metadata": {
        "scrolled": true,
        "id": "KVNvkYV7SdX_",
        "outputId": "4d9662a4-b99d-417d-80e9-49414080053d",
        "colab": {
          "base_uri": "https://localhost:8080/"
        }
      },
      "source": [
        "from sklearn import linear_model\n",
        "import numpy as np\n",
        "'''\n",
        "+--------------+\n",
        "| frev         |\n",
        "+--------------+\n",
        "| x1 | x2 | y  |\n",
        "+----+----+----+\n",
        "| 2  | 3  | 4  |\n",
        "+----+----+----+\n",
        "| 8  | 5  | 9  |\n",
        "+----+----+----+\n",
        "| 6  | 4  | 7  |\n",
        "+----+----+----+\n",
        "| 10 | 2  | 7  |\n",
        "+----+----+----+\n",
        "| 4  | 2  | 4  |\n",
        "+----+----+----+\n",
        "| 16 | 7  | 15 |\n",
        "+----+----+----+\n",
        "'''\n",
        "model = linear_model.LinearRegression()\n",
        "# y = mx1 + x2 where m=0.5\n",
        "#TBD: Fit/Train the model from observed data\n",
        "X = [[2,3],[8,5],[6,4],[10,2],[4,2]]\n",
        "Y = [4,9,7,7,4]\n",
        "reg = model.fit(X,Y)\n",
        "print(reg.coef_)\n",
        "\n",
        "#TBD: Use fitted/trained model to predict for any given x1, x2\n",
        "model.predict([[16,7]])"
      ],
      "execution_count": 6,
      "outputs": [
        {
          "output_type": "stream",
          "text": [
            "[0.5 1. ]\n"
          ],
          "name": "stdout"
        },
        {
          "output_type": "execute_result",
          "data": {
            "text/plain": [
              "array([15.])"
            ]
          },
          "metadata": {
            "tags": []
          },
          "execution_count": 6
        }
      ]
    },
    {
      "cell_type": "markdown",
      "metadata": {
        "id": "uXuNjP3iSdYC"
      },
      "source": [
        "## Supervised Learning - Classification\n",
        "*y* is a class/category"
      ]
    },
    {
      "cell_type": "code",
      "metadata": {
        "id": "asdAtxH5SdYD",
        "outputId": "83cc816e-fcfe-4d6d-a2dd-285840b20193",
        "colab": {
          "base_uri": "https://localhost:8080/"
        }
      },
      "source": [
        "from sklearn.feature_extraction.text import CountVectorizer\n",
        "from sklearn.linear_model.logistic import LogisticRegression\n",
        "import numpy as np\n",
        "\n",
        "'''\n",
        "Building a labelled dataset of documents\n",
        "'''\n",
        "doc0 = \"hello world\"\n",
        "doc1 = \"foo bar\"\n",
        "doc2 = \"lottery prize winner\"\n",
        "docs_train = [doc0] * 1000 + [doc1] * 1000 + [doc2] * 400\n",
        "\n",
        "'''\n",
        "    Converting documents to feature vectors\n",
        "'''\n",
        "vectorizer = CountVectorizer()\n",
        "X_train = vectorizer.fit_transform(docs_train).toarray()\n",
        "features = vectorizer.get_feature_names()\n",
        "print(f'Features: {features}')\n",
        "Y_train = np.array([[0] * 1000 + [0] * 1000 + [1.0] * 400]).reshape(2400,)\n",
        "\n",
        "\n",
        "'''\n",
        "Choosing the model\n",
        "'''\n",
        "classifier = LogisticRegression()\n",
        "\n",
        "\n",
        "'''\n",
        "    Train the model\n",
        "'''\n",
        "#TBD Fit the model to training data\n",
        "classifier.fit(X_train, Y_train)\n",
        "\n",
        "'''\n",
        "    Test the model\n",
        "'''\n",
        "#TBD Use fitted model to predict if the documents in test data are spam or not\n",
        "docs_test = [\n",
        "             \"lottery winner\",\n",
        "             \"hello foo\", \n",
        "             \"hello bar\", \n",
        "             \"lottery prize\", \n",
        "             \"world foo\",\n",
        "             \"prize winner\",\n",
        "            ]\n",
        "X_test = vectorizer.transform(docs_test).toarray()\n",
        "\n",
        "predictions = classifier.predict(X_test)\n",
        "print(f'Spam classification (1 means document is spam):\\n====\\n{predictions}\\n====\\n')"
      ],
      "execution_count": 14,
      "outputs": [
        {
          "output_type": "stream",
          "text": [
            "Features: ['bar', 'foo', 'hello', 'lottery', 'prize', 'winner', 'world']\n",
            "Spam classification (1 means document is spam):\n",
            "====\n",
            "[1. 0. 0. 1. 0. 1.]\n",
            "====\n",
            "\n"
          ],
          "name": "stdout"
        }
      ]
    }
  ]
}