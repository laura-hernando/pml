{
  "nbformat": 4,
  "nbformat_minor": 0,
  "metadata": {
    "kernelspec": {
      "display_name": "Python 3",
      "language": "python",
      "name": "python3"
    },
    "language_info": {
      "codemirror_mode": {
        "name": "ipython",
        "version": 3
      },
      "file_extension": ".py",
      "mimetype": "text/x-python",
      "name": "python",
      "nbconvert_exporter": "python",
      "pygments_lexer": "ipython3",
      "version": "3.6.5"
    },
    "colab": {
      "name": "Copy of 023.ipynb",
      "provenance": [],
      "include_colab_link": true
    }
  },
  "cells": [
    {
      "cell_type": "markdown",
      "metadata": {
        "id": "view-in-github",
        "colab_type": "text"
      },
      "source": [
        "<a href=\"https://colab.research.google.com/github/laura-hernando/pml/blob/master/course/Problem023_Propagation/023.ipynb\" target=\"_parent\"><img src=\"https://colab.research.google.com/assets/colab-badge.svg\" alt=\"Open In Colab\"/></a>"
      ]
    },
    {
      "cell_type": "markdown",
      "metadata": {
        "id": "Zke1eBEL35Qt"
      },
      "source": [
        "## Function composition\n",
        "Break down following functions into their composing functions\n",
        "\n",
        "1. $y = \\log(x^2)$\n",
        "\n",
        "is composed of \n",
        "$g(x) = \\log(x)$\n",
        "and $f(x)= x^2$\n",
        "i.e $ y = g(f(x)) $\n",
        "\n",
        "2. $y = \\sin^2(x)$\n",
        "\n",
        "is composed of \n",
        "$g(x) = \\sin(x)$\n",
        "and $f(x)= sin(x)$\n",
        "i.e $ y = g(f(x)) $\n",
        "\n",
        "3. $y = \\sin(x^2)$\n",
        "\n",
        "is composed of \n",
        "$g(x) = \\sin(x)$\n",
        "and $f(x)= x^2$\n",
        "i.e $ y = g(f(x)) $\n",
        "\n",
        "\n",
        "4. $y = e^{5x^2}$\n",
        "\n",
        "is composed of \n",
        "$g(x) = e(x)$\n",
        "and $f(x)= 5x^2$\n",
        "i.e $ y = g(f(x)) $\n",
        "\n",
        "5. $y = \\frac{1}{1 + e^{-10x + 3}}$\n",
        "\n",
        "\n"
      ]
    },
    {
      "cell_type": "markdown",
      "metadata": {
        "id": "uc3ak02035Qu"
      },
      "source": [
        "## Derivative of composite functions\n",
        "\n",
        "Find derivatives for following functions using chain rule\n",
        "\n",
        "1. $y = \\log(x^2)$\n",
        "\n",
        "$h'(x) = \\frac{1}{x^2}  2x $ $ = \\frac{2}{x}$ \n",
        "\n",
        "2. $y = \\sin^2(x)$\n",
        "\n",
        "$y' = 2cos(x)sin(x)$\n",
        "\n",
        "3. $y = \\sin(x^2)$\n",
        "\n",
        "$y' = 2xcos(x^2)$\n",
        "\n",
        "4. $y = e^{5x^2}$\n",
        "\n",
        "$y' = 10xe^{5x^2}$\n",
        "\n",
        "5. $y = \\frac{1}{1 + e^{-10x + 3}}$\n",
        "\n",
        "\n"
      ]
    },
    {
      "cell_type": "code",
      "metadata": {
        "id": "1VSaYO5G35Qu"
      },
      "source": [
        ""
      ],
      "execution_count": null,
      "outputs": []
    },
    {
      "cell_type": "code",
      "metadata": {
        "id": "tfrkccj635Qu"
      },
      "source": [
        ""
      ],
      "execution_count": null,
      "outputs": []
    }
  ]
}