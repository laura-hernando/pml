{
  "nbformat": 4,
  "nbformat_minor": 0,
  "metadata": {
    "kernelspec": {
      "name": "python3",
      "display_name": "Python 3.8.2 64-bit ('pml': venv)",
      "metadata": {
        "interpreter": {
          "hash": "a4c9474aacc61cf72d0f1c29f4a339e5d6b2171c287541cfd684cf058783219b"
        }
      }
    },
    "language_info": {
      "codemirror_mode": {
        "name": "ipython",
        "version": 3
      },
      "file_extension": ".py",
      "mimetype": "text/x-python",
      "name": "python",
      "nbconvert_exporter": "python",
      "pygments_lexer": "ipython3",
      "version": "3.8.2-final"
    },
    "colab": {
      "name": "Copy of 022.ipynb",
      "provenance": [],
      "include_colab_link": true
    }
  },
  "cells": [
    {
      "cell_type": "markdown",
      "metadata": {
        "id": "view-in-github",
        "colab_type": "text"
      },
      "source": [
        "<a href=\"https://colab.research.google.com/github/laura-hernando/pml/blob/master/course/Problem022_GradientDescent/022.ipynb\" target=\"_parent\"><img src=\"https://colab.research.google.com/assets/colab-badge.svg\" alt=\"Open In Colab\"/></a>"
      ]
    },
    {
      "cell_type": "markdown",
      "metadata": {
        "id": "WyWZdbBv2izR"
      },
      "source": [
        "## Gradient Descent\n",
        "\n",
        "\n",
        "### TBD: Tale of 2 functions: First is f, the function we are trying to predict. second is J, the cost function. Whats your general observation about f and J\n",
        "\n"
      ]
    },
    {
      "cell_type": "markdown",
      "metadata": {
        "id": "dcGBfDIg2izS"
      },
      "source": [
        "### TBD Simply stated gradient descent means that move in the direction of negative slope in some proportion to the incline of the slope.\n",
        "\n",
        "    - Which of above 2 functions (f or J) we would do gradient descent?\n",
        "    J\n",
        "    - What is a learning rate? \n",
        "    Learning rate is how big a step you want to take"
      ]
    },
    {
      "cell_type": "markdown",
      "metadata": {
        "id": "Wj_A_Zof2izS"
      },
      "source": [
        "### TBD: Given the following cost function J\n",
        "\n",
        "$\\begin{align}J(w) = (w-3)^2\\end{align}$\n",
        "\n",
        "and our current weight is 7, given the learning rate of 0.1\n",
        "\n",
        " - What will be the length of our next stride (by what magnitude will be adjust the weight)?\n",
        "\n",
        " - What will be the new weight?"
      ]
    },
    {
      "cell_type": "code",
      "metadata": {
        "id": "v5kIgKfY2izS"
      },
      "source": [
        ""
      ],
      "execution_count": null,
      "outputs": []
    }
  ]
}