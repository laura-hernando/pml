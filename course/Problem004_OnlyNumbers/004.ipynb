{
  "nbformat": 4,
  "nbformat_minor": 0,
  "metadata": {
    "kernelspec": {
      "display_name": "Python 3",
      "language": "python",
      "name": "python3"
    },
    "language_info": {
      "codemirror_mode": {
        "name": "ipython",
        "version": 3
      },
      "file_extension": ".py",
      "mimetype": "text/x-python",
      "name": "python",
      "nbconvert_exporter": "python",
      "pygments_lexer": "ipython3",
      "version": "3.6.5"
    },
    "colab": {
      "name": "004.ipynb",
      "provenance": [],
      "include_colab_link": true
    }
  },
  "cells": [
    {
      "cell_type": "markdown",
      "metadata": {
        "id": "view-in-github",
        "colab_type": "text"
      },
      "source": [
        "<a href=\"https://colab.research.google.com/github/laura-hernando/pml/blob/master/course/Problem004_OnlyNumbers/004.ipynb\" target=\"_parent\"><img src=\"https://colab.research.google.com/assets/colab-badge.svg\" alt=\"Open In Colab\"/></a>"
      ]
    },
    {
      "cell_type": "markdown",
      "metadata": {
        "scrolled": true,
        "id": "4u6mUYUJCRyC"
      },
      "source": [
        "### Features and Target  are (should be) numbers"
      ]
    },
    {
      "cell_type": "markdown",
      "metadata": {
        "id": "ZbyjM6TrCRyD"
      },
      "source": [
        "#### Text as Features"
      ]
    },
    {
      "cell_type": "code",
      "metadata": {
        "id": "-wpEr6NyCRyE"
      },
      "source": [
        "# Lets say your vocabulary consist of only 4 words\n",
        "# \"foo\", \"bar\", \"hello\", \"world\"\n",
        "\n",
        "# If we want to build a dataset of following 4 documents\n",
        "# to be passed to some ML algorithm\n",
        "\n",
        "doc1 = \"foo foo bar\"\n",
        "doc2 = \"foo\"\n",
        "doc3 = \"hello world\"\n",
        "doc4 = \"hello foo\"\n",
        "\n",
        "docs = [doc1, doc2, doc3, doc4]\n",
        "\n",
        "docs_data = ['DESCR', 'data', 'feature_names', 'target']\n",
        "docs_data['feature_names'] = ['foo', 'bar', 'hello', 'world']\n",
        "# count of words\n",
        "docs_data['data'][0] = [2,1,0,0]\n",
        "docs_data['data'][1] = [1,0,0,0]\n",
        "docs_data['data'][2] = [0,0,1,1]\n",
        "docs_data['data'][3] = [1,0,1,0]\n",
        "#note, we are losing order of words\n",
        "\n",
        "# TBD, convert docs to X, i.e a dataset of features which ML algorithm can understand"
      ],
      "execution_count": null,
      "outputs": []
    },
    {
      "cell_type": "code",
      "metadata": {
        "id": "0VmsjZAPCRyH"
      },
      "source": [
        "# TBD, convert docs to X, i.e a dataset of features which ML algorithm can understand\n",
        "# using CountVectorizer\n",
        "from sklearn.feature_extraction.text import CountVectorizer\n"
      ],
      "execution_count": null,
      "outputs": []
    },
    {
      "cell_type": "markdown",
      "metadata": {
        "id": "CO045im8CRyK"
      },
      "source": [
        "#### Image as Features"
      ]
    },
    {
      "cell_type": "code",
      "metadata": {
        "id": "GYn7PMEgCRyL",
        "outputId": "eb9fa972-2c14-48e5-9f7a-ddfb0fd07d9d"
      },
      "source": [
        "from sklearn.datasets import load_digits\n",
        "digits_data = load_digits()\n",
        "dir(digits_data)"
      ],
      "execution_count": null,
      "outputs": [
        {
          "output_type": "execute_result",
          "data": {
            "text/plain": [
              "['DESCR', 'data', 'images', 'target', 'target_names']"
            ]
          },
          "metadata": {
            "tags": []
          },
          "execution_count": 2
        }
      ]
    },
    {
      "cell_type": "code",
      "metadata": {
        "id": "hqwFxGGeCRyP"
      },
      "source": [
        "import matplotlib.pyplot as plt\n",
        "def show_image(image, label):\n",
        "    plt.figure(figsize=(3,2))\n",
        "    plt.axis('off')\n",
        "    plt.imshow(image, cmap='gray')\n",
        "    plt.title('Label: %i' % label)\n",
        "    plt.show()\n",
        "\n",
        "# TBD for image 12 show image and label, use function show_image"
      ],
      "execution_count": null,
      "outputs": []
    },
    {
      "cell_type": "markdown",
      "metadata": {
        "id": "1q39LRFsCRyS"
      },
      "source": [
        "#### Image 12 all features\n",
        "$\n",
        "\\begin{align}\n",
        "X^{12} \n",
        "\\end{align}\n",
        "$\n"
      ]
    },
    {
      "cell_type": "code",
      "metadata": {
        "id": "Y0SAZbwXCRyS"
      },
      "source": [
        "# TBD"
      ],
      "execution_count": null,
      "outputs": []
    },
    {
      "cell_type": "markdown",
      "metadata": {
        "id": "iqBFLwcrCRyV"
      },
      "source": [
        "####  Image 12 intensity of pixel 20 \n",
        "$\n",
        "\\begin{align}\n",
        "X^{11}_{20} \n",
        "\\end{align}\n",
        "$"
      ]
    },
    {
      "cell_type": "code",
      "metadata": {
        "id": "MQ8hcr7mCRyV"
      },
      "source": [
        "# TBD"
      ],
      "execution_count": null,
      "outputs": []
    }
  ]
}