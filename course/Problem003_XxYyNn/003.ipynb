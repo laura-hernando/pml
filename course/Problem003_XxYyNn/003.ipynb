{
  "nbformat": 4,
  "nbformat_minor": 0,
  "metadata": {
    "kernelspec": {
      "display_name": "Python 3",
      "language": "python",
      "name": "python3"
    },
    "language_info": {
      "codemirror_mode": {
        "name": "ipython",
        "version": 3
      },
      "file_extension": ".py",
      "mimetype": "text/x-python",
      "name": "python",
      "nbconvert_exporter": "python",
      "pygments_lexer": "ipython3",
      "version": "3.6.5"
    },
    "colab": {
      "name": "003.ipynb",
      "provenance": [],
      "include_colab_link": true
    }
  },
  "cells": [
    {
      "cell_type": "markdown",
      "metadata": {
        "id": "view-in-github",
        "colab_type": "text"
      },
      "source": [
        "<a href=\"https://colab.research.google.com/github/laura-hernando/pml/blob/master/course/Problem003_XxYyNn/003.ipynb\" target=\"_parent\"><img src=\"https://colab.research.google.com/assets/colab-badge.svg\" alt=\"Open In Colab\"/></a>"
      ]
    },
    {
      "cell_type": "markdown",
      "metadata": {
        "id": "KU9hpgT555E4"
      },
      "source": [
        "# Load Boston Housing Dataset\n",
        "https://scikit-learn.org/stable/modules/generated/sklearn.datasets.load_boston.html#sklearn.datasets.load_boston"
      ]
    },
    {
      "cell_type": "code",
      "metadata": {
        "id": "rQL9C9d4-e0f"
      },
      "source": [
        "import numpy as np"
      ],
      "execution_count": 26,
      "outputs": []
    },
    {
      "cell_type": "code",
      "metadata": {
        "scrolled": true,
        "id": "PGPaW1Oy55E6"
      },
      "source": [
        "from sklearn.datasets import load_boston\n",
        "house_data = load_boston()"
      ],
      "execution_count": 1,
      "outputs": []
    },
    {
      "cell_type": "code",
      "metadata": {
        "id": "XIdb-sm86lqH",
        "outputId": "8117c263-5a21-42a7-f38c-d93afe8cb187",
        "colab": {
          "base_uri": "https://localhost:8080/",
          "height": 34
        }
      },
      "source": [
        "dir(house_data)"
      ],
      "execution_count": 7,
      "outputs": [
        {
          "output_type": "execute_result",
          "data": {
            "text/plain": [
              "['DESCR', 'data', 'feature_names', 'filename', 'target']"
            ]
          },
          "metadata": {
            "tags": []
          },
          "execution_count": 7
        }
      ]
    },
    {
      "cell_type": "code",
      "metadata": {
        "id": "Whhhel_O6n8d",
        "outputId": "85ca7e55-4512-4722-befe-92be59fe74b9",
        "colab": {
          "base_uri": "https://localhost:8080/",
          "height": 51
        }
      },
      "source": [
        "house_data['feature_names']"
      ],
      "execution_count": 17,
      "outputs": [
        {
          "output_type": "execute_result",
          "data": {
            "text/plain": [
              "array(['CRIM', 'ZN', 'INDUS', 'CHAS', 'NOX', 'RM', 'AGE', 'DIS', 'RAD',\n",
              "       'TAX', 'PTRATIO', 'B', 'LSTAT'], dtype='<U7')"
            ]
          },
          "metadata": {
            "tags": []
          },
          "execution_count": 17
        }
      ]
    },
    {
      "cell_type": "code",
      "metadata": {
        "id": "6n4dJO8q55E9",
        "outputId": "7cfb929f-fdbb-457d-fa27-761a1b66f8ed",
        "colab": {
          "base_uri": "https://localhost:8080/",
          "height": 34
        }
      },
      "source": [
        "# How many houses are there (N)\n",
        "N = len(house_data['data'])\n",
        "print(N)"
      ],
      "execution_count": 11,
      "outputs": [
        {
          "output_type": "stream",
          "text": [
            "506\n"
          ],
          "name": "stdout"
        }
      ]
    },
    {
      "cell_type": "code",
      "metadata": {
        "id": "A6pvlBAn55FB",
        "outputId": "dae8abab-2f3d-45bc-a3e6-b0fb5ed39995",
        "colab": {
          "base_uri": "https://localhost:8080/",
          "height": 34
        }
      },
      "source": [
        "# A house has how many attributes(or features or signals or dimensions or columns)\n",
        "n = len(house_data['feature_names'])\n",
        "print(n)\n",
        "# All attributes together make up a row (or input or x)"
      ],
      "execution_count": 13,
      "outputs": [
        {
          "output_type": "stream",
          "text": [
            "13\n"
          ],
          "name": "stdout"
        }
      ]
    },
    {
      "cell_type": "code",
      "metadata": {
        "id": "W7-YYqZi55FE",
        "outputId": "c35f8151-28c0-47ac-d786-244f59157a19",
        "colab": {
          "base_uri": "https://localhost:8080/",
          "height": 34
        }
      },
      "source": [
        "# Whats the Median value of the first house (target or label or output y)\n",
        "house_data['target'][0]"
      ],
      "execution_count": 18,
      "outputs": [
        {
          "output_type": "execute_result",
          "data": {
            "text/plain": [
              "24.0"
            ]
          },
          "metadata": {
            "tags": []
          },
          "execution_count": 18
        }
      ]
    },
    {
      "cell_type": "code",
      "metadata": {
        "id": "25hl7ymk55FH",
        "outputId": "edcda41b-cd44-4573-d620-e4ba50fa03ec",
        "colab": {
          "base_uri": "https://localhost:8080/",
          "height": 34
        }
      },
      "source": [
        "# Whats the value of feature RM (average number of rooms per dwelling) for the last house\n",
        "index_RM = np.where(house_data['feature_names'] == 'RM')\n",
        "house_data['data'][-1][index_RM]"
      ],
      "execution_count": 32,
      "outputs": [
        {
          "output_type": "execute_result",
          "data": {
            "text/plain": [
              "array([6.03])"
            ]
          },
          "metadata": {
            "tags": []
          },
          "execution_count": 32
        }
      ]
    },
    {
      "cell_type": "markdown",
      "metadata": {
        "id": "perHrbzO55FK"
      },
      "source": [
        "#### House 8 all features\n",
        "$\n",
        "\\begin{align}\n",
        "X^{8} \n",
        "\\end{align}\n",
        "$\n"
      ]
    },
    {
      "cell_type": "code",
      "metadata": {
        "id": "Of4_TOkN55FK",
        "outputId": "73829944-a410-4c74-d51c-b8dc41680466",
        "colab": {
          "base_uri": "https://localhost:8080/",
          "height": 68
        }
      },
      "source": [
        "house_data['data'][7]"
      ],
      "execution_count": 33,
      "outputs": [
        {
          "output_type": "execute_result",
          "data": {
            "text/plain": [
              "array([1.4455e-01, 1.2500e+01, 7.8700e+00, 0.0000e+00, 5.2400e-01,\n",
              "       6.1720e+00, 9.6100e+01, 5.9505e+00, 5.0000e+00, 3.1100e+02,\n",
              "       1.5200e+01, 3.9690e+02, 1.9150e+01])"
            ]
          },
          "metadata": {
            "tags": []
          },
          "execution_count": 33
        }
      ]
    },
    {
      "cell_type": "markdown",
      "metadata": {
        "id": "iErdX_kl55FN"
      },
      "source": [
        "#### House 8,  feature 2\n",
        "(INDUS proportion of non-retail business acres per town)\n",
        "\n",
        "$\n",
        "\\begin{align}\n",
        "X_{2}^{8}\n",
        "\\end{align}\n",
        "$\n"
      ]
    },
    {
      "cell_type": "code",
      "metadata": {
        "id": "A4SsmLnt55FO",
        "outputId": "1dfc0476-cae0-432a-9486-043171b29931",
        "colab": {
          "base_uri": "https://localhost:8080/",
          "height": 34
        }
      },
      "source": [
        "house_data['data'][7][2]"
      ],
      "execution_count": 34,
      "outputs": [
        {
          "output_type": "execute_result",
          "data": {
            "text/plain": [
              "7.87"
            ]
          },
          "metadata": {
            "tags": []
          },
          "execution_count": 34
        }
      ]
    },
    {
      "cell_type": "markdown",
      "metadata": {
        "id": "LJ_ZXcP255FR"
      },
      "source": [
        "#### All houses feature 4\n",
        "(NOX nitric oxides concentration)\n",
        "\n",
        "$\n",
        "\\begin{align}\n",
        "X_{4}\n",
        "\\end{align}\n",
        "$\n"
      ]
    },
    {
      "cell_type": "code",
      "metadata": {
        "id": "F57TtSEf55FR"
      },
      "source": [
        ""
      ],
      "execution_count": 37,
      "outputs": []
    },
    {
      "cell_type": "markdown",
      "metadata": {
        "id": "FfbJIgOh55FU"
      },
      "source": [
        "#### Target value for house 4\n",
        "$\n",
        "Y^{4}\n",
        "$\n"
      ]
    },
    {
      "cell_type": "code",
      "metadata": {
        "id": "1TSatoBV55FV",
        "outputId": "022e71ce-510e-4f58-a928-27b8d9c802b2",
        "colab": {
          "base_uri": "https://localhost:8080/",
          "height": 34
        }
      },
      "source": [
        "house_data['target'][4]"
      ],
      "execution_count": 31,
      "outputs": [
        {
          "output_type": "execute_result",
          "data": {
            "text/plain": [
              "36.2"
            ]
          },
          "metadata": {
            "tags": []
          },
          "execution_count": 31
        }
      ]
    },
    {
      "cell_type": "markdown",
      "metadata": {
        "id": "oNZZ0OEn55FX"
      },
      "source": [
        "Small *x* and *y* are used to represent a *feature* and *target* of a single house\n",
        "#### Which among the following could be valid representation?\n",
        "$\n",
        "x^{4}\\:, \\: x_{2}\\:,\\:y^{4}\\:,\\:y_{2}\n",
        "$\n",
        "\n"
      ]
    },
    {
      "cell_type": "code",
      "metadata": {
        "id": "i5DfSJ5J55FY"
      },
      "source": [
        "# 𝑥2 (house with two features). y is scalar because it's of a single house"
      ],
      "execution_count": 37,
      "outputs": []
    }
  ]
}