{
  "nbformat": 4,
  "nbformat_minor": 0,
  "metadata": {
    "kernelspec": {
      "display_name": "Python 3",
      "language": "python",
      "name": "python3"
    },
    "language_info": {
      "codemirror_mode": {
        "name": "ipython",
        "version": 3
      },
      "file_extension": ".py",
      "mimetype": "text/x-python",
      "name": "python",
      "nbconvert_exporter": "python",
      "pygments_lexer": "ipython3",
      "version": "3.6.5"
    },
    "colab": {
      "name": "003.ipynb",
      "provenance": [],
      "include_colab_link": true
    }
  },
  "cells": [
    {
      "cell_type": "markdown",
      "metadata": {
        "id": "view-in-github",
        "colab_type": "text"
      },
      "source": [
        "<a href=\"https://colab.research.google.com/github/laura-hernando/pml/blob/master/course/Problem003_XxYyNn/003.ipynb\" target=\"_parent\"><img src=\"https://colab.research.google.com/assets/colab-badge.svg\" alt=\"Open In Colab\"/></a>"
      ]
    },
    {
      "cell_type": "markdown",
      "metadata": {
        "id": "KU9hpgT555E4"
      },
      "source": [
        "# Load Boston Housing Dataset\n",
        "https://scikit-learn.org/stable/modules/generated/sklearn.datasets.load_boston.html#sklearn.datasets.load_boston"
      ]
    },
    {
      "cell_type": "code",
      "metadata": {
        "id": "rQL9C9d4-e0f"
      },
      "source": [
        "import numpy as np"
      ],
      "execution_count": 5,
      "outputs": []
    },
    {
      "cell_type": "code",
      "metadata": {
        "scrolled": true,
        "id": "PGPaW1Oy55E6"
      },
      "source": [
        "from sklearn.datasets import load_boston\n",
        "house_data = load_boston()"
      ],
      "execution_count": 7,
      "outputs": []
    },
    {
      "cell_type": "code",
      "metadata": {
        "id": "XIdb-sm86lqH",
        "outputId": "c542eddd-9e7f-4214-be49-0306aaea0532",
        "colab": {
          "base_uri": "https://localhost:8080/",
          "height": 34
        }
      },
      "source": [
        "dir(house_data)"
      ],
      "execution_count": 8,
      "outputs": [
        {
          "output_type": "execute_result",
          "data": {
            "text/plain": [
              "['DESCR', 'data', 'feature_names', 'filename', 'target']"
            ]
          },
          "metadata": {
            "tags": []
          },
          "execution_count": 8
        }
      ]
    },
    {
      "cell_type": "code",
      "metadata": {
        "id": "Whhhel_O6n8d",
        "outputId": "31fa29ff-242a-42de-fd65-9c32471bc53c",
        "colab": {
          "base_uri": "https://localhost:8080/",
          "height": 51
        }
      },
      "source": [
        "house_data['feature_names']"
      ],
      "execution_count": 9,
      "outputs": [
        {
          "output_type": "execute_result",
          "data": {
            "text/plain": [
              "array(['CRIM', 'ZN', 'INDUS', 'CHAS', 'NOX', 'RM', 'AGE', 'DIS', 'RAD',\n",
              "       'TAX', 'PTRATIO', 'B', 'LSTAT'], dtype='<U7')"
            ]
          },
          "metadata": {
            "tags": []
          },
          "execution_count": 9
        }
      ]
    },
    {
      "cell_type": "code",
      "metadata": {
        "id": "6n4dJO8q55E9",
        "outputId": "3480097d-b03d-4ff1-8907-b649586255db",
        "colab": {
          "base_uri": "https://localhost:8080/",
          "height": 34
        }
      },
      "source": [
        "# How many houses are there (N)\n",
        "N = len(house_data['data'])\n",
        "print(N)"
      ],
      "execution_count": 10,
      "outputs": [
        {
          "output_type": "stream",
          "text": [
            "506\n"
          ],
          "name": "stdout"
        }
      ]
    },
    {
      "cell_type": "code",
      "metadata": {
        "id": "A6pvlBAn55FB",
        "outputId": "06c78292-d190-4b1a-d4e1-780da84e59da",
        "colab": {
          "base_uri": "https://localhost:8080/",
          "height": 34
        }
      },
      "source": [
        "# A house has how many attributes(or features or signals or dimensions or columns)\n",
        "n = len(house_data['feature_names'])\n",
        "print(n)\n",
        "# All attributes together make up a row (or input or x)"
      ],
      "execution_count": 11,
      "outputs": [
        {
          "output_type": "stream",
          "text": [
            "13\n"
          ],
          "name": "stdout"
        }
      ]
    },
    {
      "cell_type": "code",
      "metadata": {
        "id": "W7-YYqZi55FE",
        "outputId": "9133dc63-be6b-4fa8-a767-74ebc585587f",
        "colab": {
          "base_uri": "https://localhost:8080/",
          "height": 34
        }
      },
      "source": [
        "# Whats the Median value of the first house (target or label or output y)\n",
        "house_data['target'][0]"
      ],
      "execution_count": 12,
      "outputs": [
        {
          "output_type": "execute_result",
          "data": {
            "text/plain": [
              "24.0"
            ]
          },
          "metadata": {
            "tags": []
          },
          "execution_count": 12
        }
      ]
    },
    {
      "cell_type": "code",
      "metadata": {
        "id": "25hl7ymk55FH",
        "outputId": "29898b61-8402-4c21-e467-346c658e5528",
        "colab": {
          "base_uri": "https://localhost:8080/",
          "height": 34
        }
      },
      "source": [
        "# Whats the value of feature RM (average number of rooms per dwelling) for the last house\n",
        "index_RM = np.where(house_data['feature_names'] == 'RM')\n",
        "house_data['data'][-1][index_RM]"
      ],
      "execution_count": 13,
      "outputs": [
        {
          "output_type": "execute_result",
          "data": {
            "text/plain": [
              "array([6.03])"
            ]
          },
          "metadata": {
            "tags": []
          },
          "execution_count": 13
        }
      ]
    },
    {
      "cell_type": "markdown",
      "metadata": {
        "id": "perHrbzO55FK"
      },
      "source": [
        "#### House 8 all features\n",
        "$\n",
        "\\begin{align}\n",
        "X^{8} \n",
        "\\end{align}\n",
        "$\n"
      ]
    },
    {
      "cell_type": "code",
      "metadata": {
        "id": "Of4_TOkN55FK",
        "outputId": "364ae0b2-c06f-4b7a-b559-786cfc4c8e66",
        "colab": {
          "base_uri": "https://localhost:8080/",
          "height": 68
        }
      },
      "source": [
        "house_data['data'][8]"
      ],
      "execution_count": 14,
      "outputs": [
        {
          "output_type": "execute_result",
          "data": {
            "text/plain": [
              "array([2.1124e-01, 1.2500e+01, 7.8700e+00, 0.0000e+00, 5.2400e-01,\n",
              "       5.6310e+00, 1.0000e+02, 6.0821e+00, 5.0000e+00, 3.1100e+02,\n",
              "       1.5200e+01, 3.8663e+02, 2.9930e+01])"
            ]
          },
          "metadata": {
            "tags": []
          },
          "execution_count": 14
        }
      ]
    },
    {
      "cell_type": "markdown",
      "metadata": {
        "id": "iErdX_kl55FN"
      },
      "source": [
        "#### House 8,  feature 2\n",
        "(INDUS proportion of non-retail business acres per town)\n",
        "\n",
        "$\n",
        "\\begin{align}\n",
        "X_{2}^{8}\n",
        "\\end{align}\n",
        "$\n"
      ]
    },
    {
      "cell_type": "code",
      "metadata": {
        "id": "A4SsmLnt55FO",
        "outputId": "65e5230c-6391-42c1-abd1-9a965390b259",
        "colab": {
          "base_uri": "https://localhost:8080/",
          "height": 34
        }
      },
      "source": [
        "house_data['data'][8][2]"
      ],
      "execution_count": 15,
      "outputs": [
        {
          "output_type": "execute_result",
          "data": {
            "text/plain": [
              "7.87"
            ]
          },
          "metadata": {
            "tags": []
          },
          "execution_count": 15
        }
      ]
    },
    {
      "cell_type": "markdown",
      "metadata": {
        "id": "LJ_ZXcP255FR"
      },
      "source": [
        "#### All houses feature 4\n",
        "(NOX nitric oxides concentration)\n",
        "\n",
        "$\n",
        "\\begin{align}\n",
        "X_{4}\n",
        "\\end{align}\n",
        "$\n"
      ]
    },
    {
      "cell_type": "code",
      "metadata": {
        "id": "F57TtSEf55FR",
        "outputId": "36df1715-98fe-42b1-a344-7b40205aa380",
        "colab": {
          "base_uri": "https://localhost:8080/",
          "height": 1000
        }
      },
      "source": [
        "house_data['data'][:, 4]"
      ],
      "execution_count": 16,
      "outputs": [
        {
          "output_type": "execute_result",
          "data": {
            "text/plain": [
              "array([0.538 , 0.469 , 0.469 , 0.458 , 0.458 , 0.458 , 0.524 , 0.524 ,\n",
              "       0.524 , 0.524 , 0.524 , 0.524 , 0.524 , 0.538 , 0.538 , 0.538 ,\n",
              "       0.538 , 0.538 , 0.538 , 0.538 , 0.538 , 0.538 , 0.538 , 0.538 ,\n",
              "       0.538 , 0.538 , 0.538 , 0.538 , 0.538 , 0.538 , 0.538 , 0.538 ,\n",
              "       0.538 , 0.538 , 0.538 , 0.499 , 0.499 , 0.499 , 0.499 , 0.428 ,\n",
              "       0.428 , 0.448 , 0.448 , 0.448 , 0.448 , 0.448 , 0.448 , 0.448 ,\n",
              "       0.448 , 0.448 , 0.439 , 0.439 , 0.439 , 0.439 , 0.41  , 0.403 ,\n",
              "       0.41  , 0.411 , 0.453 , 0.453 , 0.453 , 0.453 , 0.453 , 0.453 ,\n",
              "       0.4161, 0.398 , 0.398 , 0.409 , 0.409 , 0.409 , 0.413 , 0.413 ,\n",
              "       0.413 , 0.413 , 0.437 , 0.437 , 0.437 , 0.437 , 0.437 , 0.437 ,\n",
              "       0.426 , 0.426 , 0.426 , 0.426 , 0.449 , 0.449 , 0.449 , 0.449 ,\n",
              "       0.489 , 0.489 , 0.489 , 0.489 , 0.464 , 0.464 , 0.464 , 0.445 ,\n",
              "       0.445 , 0.445 , 0.445 , 0.445 , 0.52  , 0.52  , 0.52  , 0.52  ,\n",
              "       0.52  , 0.52  , 0.52  , 0.52  , 0.52  , 0.52  , 0.52  , 0.547 ,\n",
              "       0.547 , 0.547 , 0.547 , 0.547 , 0.547 , 0.547 , 0.547 , 0.547 ,\n",
              "       0.581 , 0.581 , 0.581 , 0.581 , 0.581 , 0.581 , 0.581 , 0.624 ,\n",
              "       0.624 , 0.624 , 0.624 , 0.624 , 0.624 , 0.624 , 0.624 , 0.624 ,\n",
              "       0.624 , 0.624 , 0.624 , 0.624 , 0.624 , 0.624 , 0.871 , 0.871 ,\n",
              "       0.871 , 0.871 , 0.871 , 0.871 , 0.871 , 0.871 , 0.871 , 0.871 ,\n",
              "       0.871 , 0.871 , 0.871 , 0.871 , 0.871 , 0.605 , 0.605 , 0.871 ,\n",
              "       0.605 , 0.605 , 0.605 , 0.605 , 0.605 , 0.605 , 0.605 , 0.605 ,\n",
              "       0.605 , 0.605 , 0.605 , 0.605 , 0.51  , 0.51  , 0.51  , 0.51  ,\n",
              "       0.51  , 0.51  , 0.51  , 0.488 , 0.488 , 0.488 , 0.488 , 0.488 ,\n",
              "       0.488 , 0.488 , 0.488 , 0.437 , 0.437 , 0.437 , 0.437 , 0.437 ,\n",
              "       0.437 , 0.401 , 0.401 , 0.422 , 0.404 , 0.404 , 0.404 , 0.403 ,\n",
              "       0.403 , 0.415 , 0.415 , 0.4161, 0.4161, 0.489 , 0.489 , 0.489 ,\n",
              "       0.489 , 0.489 , 0.489 , 0.489 , 0.489 , 0.489 , 0.489 , 0.489 ,\n",
              "       0.55  , 0.55  , 0.55  , 0.55  , 0.507 , 0.507 , 0.507 , 0.507 ,\n",
              "       0.504 , 0.504 , 0.504 , 0.504 , 0.504 , 0.504 , 0.504 , 0.504 ,\n",
              "       0.507 , 0.507 , 0.507 , 0.507 , 0.507 , 0.507 , 0.428 , 0.428 ,\n",
              "       0.428 , 0.428 , 0.428 , 0.428 , 0.431 , 0.431 , 0.431 , 0.431 ,\n",
              "       0.431 , 0.431 , 0.431 , 0.431 , 0.431 , 0.431 , 0.392 , 0.392 ,\n",
              "       0.394 , 0.647 , 0.647 , 0.647 , 0.647 , 0.647 , 0.647 , 0.647 ,\n",
              "       0.647 , 0.647 , 0.647 , 0.575 , 0.575 , 0.464 , 0.464 , 0.464 ,\n",
              "       0.464 , 0.464 , 0.447 , 0.447 , 0.447 , 0.447 , 0.447 , 0.4429,\n",
              "       0.4429, 0.4429, 0.4429, 0.401 , 0.4   , 0.389 , 0.385 , 0.405 ,\n",
              "       0.405 , 0.405 , 0.411 , 0.411 , 0.411 , 0.437 , 0.437 , 0.437 ,\n",
              "       0.437 , 0.437 , 0.4   , 0.4   , 0.4   , 0.433 , 0.433 , 0.433 ,\n",
              "       0.472 , 0.472 , 0.472 , 0.472 , 0.544 , 0.544 , 0.544 , 0.544 ,\n",
              "       0.544 , 0.544 , 0.544 , 0.544 , 0.544 , 0.544 , 0.544 , 0.544 ,\n",
              "       0.493 , 0.493 , 0.493 , 0.493 , 0.493 , 0.493 , 0.493 , 0.493 ,\n",
              "       0.46  , 0.46  , 0.46  , 0.4379, 0.4379, 0.515 , 0.515 , 0.515 ,\n",
              "       0.515 , 0.515 , 0.515 , 0.515 , 0.515 , 0.442 , 0.518 , 0.484 ,\n",
              "       0.484 , 0.442 , 0.442 , 0.429 , 0.435 , 0.429 , 0.429 , 0.411 ,\n",
              "       0.411 , 0.41  , 0.413 , 0.413 , 0.77  , 0.77  , 0.77  , 0.77  ,\n",
              "       0.77  , 0.77  , 0.77  , 0.77  , 0.718 , 0.718 , 0.718 , 0.631 ,\n",
              "       0.631 , 0.631 , 0.631 , 0.631 , 0.668 , 0.668 , 0.668 , 0.671 ,\n",
              "       0.671 , 0.671 , 0.671 , 0.671 , 0.671 , 0.671 , 0.7   , 0.7   ,\n",
              "       0.7   , 0.7   , 0.7   , 0.7   , 0.7   , 0.7   , 0.7   , 0.7   ,\n",
              "       0.7   , 0.693 , 0.693 , 0.693 , 0.693 , 0.693 , 0.693 , 0.693 ,\n",
              "       0.693 , 0.693 , 0.693 , 0.693 , 0.693 , 0.693 , 0.659 , 0.659 ,\n",
              "       0.597 , 0.597 , 0.597 , 0.597 , 0.597 , 0.597 , 0.693 , 0.679 ,\n",
              "       0.679 , 0.679 , 0.679 , 0.718 , 0.718 , 0.718 , 0.614 , 0.614 ,\n",
              "       0.584 , 0.679 , 0.584 , 0.679 , 0.679 , 0.679 , 0.584 , 0.584 ,\n",
              "       0.584 , 0.713 , 0.713 , 0.74  , 0.74  , 0.74  , 0.74  , 0.74  ,\n",
              "       0.74  , 0.74  , 0.74  , 0.74  , 0.74  , 0.74  , 0.74  , 0.74  ,\n",
              "       0.713 , 0.713 , 0.713 , 0.713 , 0.713 , 0.713 , 0.713 , 0.713 ,\n",
              "       0.713 , 0.713 , 0.713 , 0.713 , 0.713 , 0.713 , 0.713 , 0.713 ,\n",
              "       0.655 , 0.655 , 0.655 , 0.584 , 0.58  , 0.58  , 0.58  , 0.532 ,\n",
              "       0.58  , 0.614 , 0.584 , 0.584 , 0.614 , 0.614 , 0.614 , 0.614 ,\n",
              "       0.532 , 0.532 , 0.532 , 0.532 , 0.583 , 0.583 , 0.583 , 0.583 ,\n",
              "       0.609 , 0.609 , 0.609 , 0.609 , 0.609 , 0.585 , 0.585 , 0.585 ,\n",
              "       0.585 , 0.585 , 0.585 , 0.585 , 0.585 , 0.573 , 0.573 , 0.573 ,\n",
              "       0.573 , 0.573 ])"
            ]
          },
          "metadata": {
            "tags": []
          },
          "execution_count": 16
        }
      ]
    },
    {
      "cell_type": "markdown",
      "metadata": {
        "id": "FfbJIgOh55FU"
      },
      "source": [
        "#### Target value for house 4\n",
        "$\n",
        "Y^{4}\n",
        "$\n"
      ]
    },
    {
      "cell_type": "code",
      "metadata": {
        "id": "1TSatoBV55FV",
        "outputId": "59fb881d-c78d-4ecf-8dbd-dce39ae18aa9",
        "colab": {
          "base_uri": "https://localhost:8080/",
          "height": 34
        }
      },
      "source": [
        "house_data['target'][4]"
      ],
      "execution_count": 17,
      "outputs": [
        {
          "output_type": "execute_result",
          "data": {
            "text/plain": [
              "36.2"
            ]
          },
          "metadata": {
            "tags": []
          },
          "execution_count": 17
        }
      ]
    },
    {
      "cell_type": "markdown",
      "metadata": {
        "id": "oNZZ0OEn55FX"
      },
      "source": [
        "Small *x* and *y* are used to represent a *feature* and *target* of a single house\n",
        "#### Which among the following could be valid representation?\n",
        "$\n",
        "x^{4}\\:, \\: x_{2}\\:,\\:y^{4}\\:,\\:y_{2}\n",
        "$\n",
        "\n"
      ]
    },
    {
      "cell_type": "code",
      "metadata": {
        "id": "i5DfSJ5J55FY"
      },
      "source": [
        "# 𝑥2 is the only vaid representation(house with two features). y is scalar because it's of a single house."
      ],
      "execution_count": 18,
      "outputs": []
    }
  ]
}